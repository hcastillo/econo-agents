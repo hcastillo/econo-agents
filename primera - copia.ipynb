{
 "cells": [
  {
   "cell_type": "code",
   "execution_count": 46,
   "id": "a3213f6f",
   "metadata": {},
   "outputs": [],
   "source": [
    "import pandas as ps\n",
    "import numpy as np"
   ]
  },
  {
   "cell_type": "code",
   "execution_count": 63,
   "id": "2f8a6a66",
   "metadata": {},
   "outputs": [],
   "source": [
    "class Config():\n",
    "    T = 1000  # time\n",
    "    N = 100   # number of banks\n",
    "    S = 10\n",
    "    α = 0.3   # alpha, liquidation cost of collaterals\n",
    "    φ = 0.1   # phi    attractiveness\n",
    "    δ = 0.015 # delta  screening cost\n",
    "    σ = 1.5   # sigma \n",
    "    depositRate = 0.03\n",
    "    riskfree = 0.01\n",
    "    RANDOM_CONNECTIVITY = 0.75\n",
    "    TOT_SIMULATIONS = 4\n",
    "    τ = 1     # tau\n",
    "    η = 0.09  #  eta \n",
    "    prud = 0.045\n",
    "    u = 1.0   #  ypsilon \n",
    "\n",
    "    # banks parameters\n",
    "    initial_loan = 120.0\n",
    "    initial_liquidity = 30.0\n",
    "    initial_deposit = 130.0\n",
    "    initial_equity = initial_liquidity / 2\n",
    "    initial_probfail = 0.2\n",
    "    initial_price = 0.3\n",
    "    initial_haircut = 0.3\n",
    "    minInterestInterbank = 0.02\n",
    "    \n",
    "class Status():\n",
    "    maxEquity = 0.0\n",
    "    banks = []\n",
    "    matched = []\n",
    "    credit = []\n",
    "    interestInterbank = []\n",
    "    marketBank = []\n",
    "    def init(self):\n",
    "        self.maxEquity = 0.0\n",
    "        self.banks = []\n",
    "        self.matched = np.zeros( (Config.N,Config.N) )\n",
    "        self.interestInterbank = np.zeros( (Config.N,Config.N) )  \n",
    "        self.credit = np.zeros( (Config.N,Config.N) )  \n",
    "        self.marketBank = np.zeros( (Config.N,Config.N) )  \n",
    "        for i in range(Config.N):\n",
    "            self.banks.append( Bank() )\n",
    "        "
   ]
  },
  {
   "cell_type": "code",
   "execution_count": 53,
   "id": "050a14a6",
   "metadata": {},
   "outputs": [],
   "source": [
    "class Bank():\n",
    "    def set_capacity():\n",
    "        self.capacity = 1.0 - self.haircut*self.asset\n",
    "        if self.capacity<1.0:\n",
    "            self.capacity = 4.0;\n",
    "        # fprintf( out49 ) **\n",
    "        \n",
    "    def determineProbFail():\n",
    "        self.probFail = 1.0 - self.equity / Status.maxEquity\n",
    "            \n",
    "    def __init__(self):\n",
    "        self.loan = Config.initial_loan\n",
    "        self.liquidity = Config.initial_liquidity\n",
    "        self.deposit = Config.initial_deposit\n",
    "        self.equity = Config.initial_equity\n",
    "        self.probfail = Config.initial_probfail\n",
    "        self.haircut = Config.initial_haircut\n",
    "        self.new_deposit = self.Dloan  = 0.0\n",
    "        self.interbankLoan = self.interbankDebt = self.failB = self.asset = self.leverage = 0.0\n",
    "        self.deltaD = self.firesale = self.crunch =  0.0\n",
    "        \n",
    "        self.asset = self.loan+ self.liquidity\n",
    "        self.leverage = self.loan / self.equity\n",
    "        \n",
    "        self.rate = 0.0       # tasso\n",
    "        self.totalRate = 0.0  # sommatasso\n",
    "        self.connected = 0.0  # collegati\n",
    "        \n",
    "        self.a = 0.0\n",
    "        self.b = 0.0\n",
    "        self.c = 0.0\n",
    "        \n",
    "        self.set_capacity()\n"
   ]
  },
  {
   "cell_type": "code",
   "execution_count": 47,
   "id": "b8efeb9d",
   "metadata": {},
   "outputs": [],
   "source": [
    "def matrixRandom():\n",
    "    \n",
    "\n",
    "    \n",
    "    \n",
    "def findMaxEquity():\n",
    "    Status.maxEquity = 0.0\n",
    "    for i in range(len(Status.banks)):\n",
    "        if (Status.banks[i].equity>Status.maxEquity):\n",
    "            Status.maxEquity = Status.banks[i].equity\n",
    "            \n",
    "def reviewBanksInterbankRate():\n",
    "    for j in range(len(Status.banks)):\n",
    "        for i in range(len(Status.banks)):\n",
    "            if not Status.credit[j][i]:\n",
    "                Status.bank[j].a = Config.prud * Status.bank[i].asset   +  Config.δ *  Status.bank[i].asset \n",
    "                \n",
    "                Status.bank[j].b = Status.bank[i].probfail * ( Config.α * Status.bank[i].asset -  Status.bank[i].capacity )\n",
    "                \n",
    "                Status.bank[j].c = ( 1 - Status.bank[i].probfail ) * Status.bank[i].capacity \n",
    "                \n",
    "                Status.interestInterbank[j][i] = ( Status.bank[j].a - Status.bank[j].b ) / Status.bank[j].c\n",
    "                if (Status.interestInterbank[j][i]< Config.minInterestInterbank):\n",
    "                    Status.interestInterbank[j][i] = Config.minInterestInterbank\n",
    "\n",
    "def reviewBanksRate():\n",
    "    for i in range(len(Status.banks)):\n",
    "        Status.banks[i].connected = 0.0\n",
    "        Status.banks[i].totalRate = 0.0\n",
    "        \n",
    "    for j in range(len(Status.banks)):\n",
    "        for i in range(len(Status.banks)):\n",
    "            if (Status.cred)"
   ]
  },
  {
   "cell_type": "code",
   "execution_count": 48,
   "id": "931b867e",
   "metadata": {},
   "outputs": [],
   "source": [
    "for simulation in range(Config.TOT_SIMULATIONS):\n",
    "    Status.init()\n",
    "    for t i range(Config.T):\n",
    "        if (t<10):\n",
    "            matrixRandom()\n",
    "        else:\n",
    "            \n",
    "            for i in range(len(Status.banks)):\n",
    "                Status.banks[i].setCapacity()\n",
    "                findMaxEquity()\n",
    "                Status.banks[i].determineProbFail()\n",
    "                \n",
    "            reviewBanksInterbankRate()\n",
    "            reviewBanksRate()\n",
    "            \n",
    "\n",
    "                                "
   ]
  },
  {
   "cell_type": "code",
   "execution_count": 61,
   "id": "25efac5b",
   "metadata": {},
   "outputs": [
    {
     "data": {
      "text/plain": [
       "__main__.Status"
      ]
     },
     "execution_count": 61,
     "metadata": {},
     "output_type": "execute_result"
    }
   ],
   "source": [
    "Status"
   ]
  },
  {
   "cell_type": "code",
   "execution_count": null,
   "id": "70480ec0",
   "metadata": {},
   "outputs": [],
   "source": [
    "Config.prud=0"
   ]
  }
 ],
 "metadata": {
  "kernelspec": {
   "display_name": "Python 3 (ipykernel)",
   "language": "python",
   "name": "python3"
  },
  "language_info": {
   "codemirror_mode": {
    "name": "ipython",
    "version": 3
   },
   "file_extension": ".py",
   "mimetype": "text/x-python",
   "name": "python",
   "nbconvert_exporter": "python",
   "pygments_lexer": "ipython3",
   "version": "3.10.8"
  }
 },
 "nbformat": 4,
 "nbformat_minor": 5
}
